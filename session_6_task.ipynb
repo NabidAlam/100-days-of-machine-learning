{
  "nbformat": 4,
  "nbformat_minor": 0,
  "metadata": {
    "colab": {
      "provenance": [],
      "include_colab_link": true
    },
    "kernelspec": {
      "name": "python3",
      "display_name": "Python 3"
    },
    "language_info": {
      "name": "python"
    }
  },
  "cells": [
    {
      "cell_type": "markdown",
      "metadata": {
        "id": "view-in-github",
        "colab_type": "text"
      },
      "source": [
        "<a href=\"https://colab.research.google.com/github/NabidAlam/100-days-of-machine-learning/blob/main/session_6_task.ipynb\" target=\"_parent\"><img src=\"https://colab.research.google.com/assets/colab-badge.svg\" alt=\"Open In Colab\"/></a>"
      ]
    },
    {
      "cell_type": "markdown",
      "source": [
        "### **`Problem-1:`** Write a Python function that takes a list and returns a new list with unique elements of the first list.\n",
        "\n",
        "**Exercise 1:**\n",
        "\n",
        "Input:\n",
        "\n",
        "```bash\n",
        "[1,2,3,3,3,3,4,5]\n",
        "```\n",
        "\n",
        "Output:\n",
        "\n",
        "```bash\n",
        "[1, 2, 3, 4, 5]\n",
        "```"
      ],
      "metadata": {
        "id": "h6dDSW5XGZFi"
      }
    },
    {
      "cell_type": "code",
      "source": [
        "[1,2,3,3,3,3,4,5] in (1, 2, 3, 4, 5)"
      ],
      "metadata": {
        "id": "R5pq1C9LGe1y",
        "colab": {
          "base_uri": "https://localhost:8080/"
        },
        "outputId": "24e80cf9-5303-45af-ef0a-8b72451ea10d"
      },
      "execution_count": 2,
      "outputs": [
        {
          "output_type": "execute_result",
          "data": {
            "text/plain": [
              "False"
            ]
          },
          "metadata": {},
          "execution_count": 2
        }
      ]
    },
    {
      "cell_type": "code",
      "source": [
        "def uniquelist(list1):\n",
        "  return list(set(list1))\n",
        "\n",
        "res = uniquelist([1,2,3,3,3,3,4,5])\n",
        "res\n",
        "\n"
      ],
      "metadata": {
        "colab": {
          "base_uri": "https://localhost:8080/"
        },
        "id": "PcLc5Xq8qC6l",
        "outputId": "a2b9c3fa-0b6d-45ef-803e-e3db176d4af6"
      },
      "execution_count": 7,
      "outputs": [
        {
          "output_type": "execute_result",
          "data": {
            "text/plain": [
              "[1, 2, 3, 4, 5]"
            ]
          },
          "metadata": {},
          "execution_count": 7
        }
      ]
    },
    {
      "cell_type": "markdown",
      "source": [
        "### **`Problem-2:`** Write a Python function that accepts a hyphen-separated sequence of words as parameter and returns the words in a hyphen-separated sequence after sorting them alphabetically.\n",
        "\n",
        "**Example 1:**\n",
        "\n",
        "Input:\n",
        "```bash\n",
        "green-red-yellow-black-white\n",
        "```\n",
        "\n",
        "Output:\n",
        "```bash\n",
        "black-green-red-white-yellow\n",
        "```"
      ],
      "metadata": {
        "id": "UxQ_VoyJGwHj"
      }
    },
    {
      "cell_type": "code",
      "source": [
        "# Write code here\n",
        "\n",
        "def check_hyphen(texts):\n",
        "  removehyph = texts.split('-')\n",
        "  removehyph = sorted(removehyph)\n",
        "  finaltext = '-'.join(removehyph)\n",
        "  return finaltext\n",
        "\n",
        "\n",
        "res = check_hyphen('green-red-yellow-black-white')\n",
        "res"
      ],
      "metadata": {
        "id": "AAts2m5zGwiQ",
        "colab": {
          "base_uri": "https://localhost:8080/",
          "height": 36
        },
        "outputId": "edd2a8bf-1434-4944-a230-e27ccd42c003"
      },
      "execution_count": 18,
      "outputs": [
        {
          "output_type": "execute_result",
          "data": {
            "text/plain": [
              "'black-green-red-white-yellow'"
            ],
            "application/vnd.google.colaboratory.intrinsic+json": {
              "type": "string"
            }
          },
          "metadata": {},
          "execution_count": 18
        }
      ]
    },
    {
      "cell_type": "code",
      "source": [
        "# Define the input string\n",
        "input_str = 'green-red-yellow-black-white'\n",
        "\n",
        "# Split the input string into a list of words, sort them alphabetically, and join them with hyphens\n",
        "output_str = '-'.join(sorted(input_str.split('-')))\n",
        "\n",
        "# Print the output string\n",
        "print(output_str)\n"
      ],
      "metadata": {
        "colab": {
          "base_uri": "https://localhost:8080/"
        },
        "id": "TtjlQ410s9_Y",
        "outputId": "7495791b-49df-474e-f8a2-8a78eeadf367"
      },
      "execution_count": 31,
      "outputs": [
        {
          "output_type": "stream",
          "name": "stdout",
          "text": [
            "black-green-red-white-yellow\n"
          ]
        }
      ]
    },
    {
      "cell_type": "code",
      "source": [
        "test = (lambda x: '-'.join(sorted(x.split('-')))) ('green-red-yellow-black-white')\n",
        "test"
      ],
      "metadata": {
        "colab": {
          "base_uri": "https://localhost:8080/",
          "height": 36
        },
        "id": "6oP7Fu0nsrK1",
        "outputId": "d2dfa1d5-cbc8-4d7a-bb62-83e9d36e07bf"
      },
      "execution_count": 30,
      "outputs": [
        {
          "output_type": "execute_result",
          "data": {
            "text/plain": [
              "'black-green-red-white-yellow'"
            ],
            "application/vnd.google.colaboratory.intrinsic+json": {
              "type": "string"
            }
          },
          "metadata": {},
          "execution_count": 30
        }
      ]
    },
    {
      "cell_type": "markdown",
      "source": [
        "\n",
        "### **`Problem 3:`** Write a Python function that accepts a string and calculate the number of upper case letters and lower case letters.\n",
        "\n",
        "```\n",
        "Sample String : 'CampusX is an Online Mentorship Program fOr EnginEering studentS.'\n",
        "Expected Output :\n",
        "No. of Upper case characters :  9\n",
        "No. of Lower case Characters :  47\n",
        "```"
      ],
      "metadata": {
        "id": "IRGH62S7Gx_n"
      }
    },
    {
      "cell_type": "code",
      "source": [
        "# Write code here"
      ],
      "metadata": {
        "id": "OaUrD8vVG5o8"
      },
      "execution_count": null,
      "outputs": []
    },
    {
      "cell_type": "code",
      "source": [
        "samplestr ='CampusX is an Online Mentorship Program fOr EnginEering studentS.'\n",
        "upperlist = []\n",
        "lowerlist = []\n",
        "countu = 0\n",
        "countl = 0\n",
        "\n",
        "for i in samplestr:\n",
        "  #print(i)\n",
        "  if i == i.upper() and i != ' ' and i!='.':\n",
        "    upperlist.append(i)\n",
        "    countu+=1\n",
        "\n",
        "  elif i == i.lower() and i != ' ' and i!='.':\n",
        "    lowerlist.append(i)\n",
        "    countl+=1\n",
        "\n",
        "print(upperlist)\n",
        "print(lowerlist)\n",
        "print(countu)\n",
        "print(countl)\n"
      ],
      "metadata": {
        "colab": {
          "base_uri": "https://localhost:8080/"
        },
        "id": "RZYOEjuuyxyF",
        "outputId": "2908659f-ad71-409c-c669-fdc88401393f"
      },
      "execution_count": 47,
      "outputs": [
        {
          "output_type": "stream",
          "name": "stdout",
          "text": [
            "['C', 'X', 'O', 'M', 'P', 'O', 'E', 'E', 'S']\n",
            "['a', 'm', 'p', 'u', 's', 'i', 's', 'a', 'n', 'n', 'l', 'i', 'n', 'e', 'e', 'n', 't', 'o', 'r', 's', 'h', 'i', 'p', 'r', 'o', 'g', 'r', 'a', 'm', 'f', 'r', 'n', 'g', 'i', 'n', 'e', 'r', 'i', 'n', 'g', 's', 't', 'u', 'd', 'e', 'n', 't']\n",
            "9\n",
            "47\n"
          ]
        }
      ]
    },
    {
      "cell_type": "code",
      "source": [
        "def count_upper_lower(input_str):\n",
        "    # Initialize counts for upper and lower case letters\n",
        "    count_upper = 0\n",
        "    count_lower = 0\n",
        "\n",
        "    # Iterate through each character in the input string\n",
        "    for char in input_str:\n",
        "        #print(char in input_str)\n",
        "        # Check if the character is an uppercase letter\n",
        "        if char.isupper():\n",
        "            count_upper += 1\n",
        "        # Check if the character is a lowercase letter\n",
        "        elif char.islower():\n",
        "            count_lower += 1\n",
        "\n",
        "    # else:\n",
        "    #   print('give correct input')\n",
        "\n",
        "    # Print the counts of upper and lower case letters\n",
        "    print(\"No. of Upper case characters:\", count_upper)\n",
        "    print(\"No. of Lower case characters:\", count_lower)\n",
        "\n",
        "# Test the function with the sample string\n",
        "sample_str = 'CampusX is an Online Mentorship Program fOr EnginEering studentS.'\n",
        "count_upper_lower(sample_str)\n"
      ],
      "metadata": {
        "colab": {
          "base_uri": "https://localhost:8080/"
        },
        "id": "16B0foeT0Onm",
        "outputId": "9da677a5-2083-4277-e43d-8464240e68cb"
      },
      "execution_count": 52,
      "outputs": [
        {
          "output_type": "stream",
          "name": "stdout",
          "text": [
            "No. of Upper case characters: 9\n",
            "No. of Lower case characters: 47\n"
          ]
        }
      ]
    },
    {
      "cell_type": "markdown",
      "source": [
        "### **`Problem 4:`** Write a Python program to print the even numbers from a given list.\n",
        "```\n",
        "Sample List : [1, 2, 3, 4, 5, 6, 7, 8, 9]\n",
        "Expected Result : [2, 4, 6, 8]\n",
        "```"
      ],
      "metadata": {
        "id": "V1BFFdYQG7Sn"
      }
    },
    {
      "cell_type": "code",
      "source": [
        "# Write code here"
      ],
      "metadata": {
        "id": "VvAReLoDG_Z3"
      },
      "execution_count": null,
      "outputs": []
    },
    {
      "cell_type": "code",
      "source": [
        "evenlist = [i for i in [1, 2, 3, 4, 5, 6, 7, 8, 9] if i%2==0]\n",
        "evenlist"
      ],
      "metadata": {
        "colab": {
          "base_uri": "https://localhost:8080/"
        },
        "id": "j1Aogneg00ln",
        "outputId": "3ba285a1-e6e0-4edc-ed75-69e67bd8623e"
      },
      "execution_count": 54,
      "outputs": [
        {
          "output_type": "execute_result",
          "data": {
            "text/plain": [
              "[2, 4, 6, 8]"
            ]
          },
          "metadata": {},
          "execution_count": 54
        }
      ]
    },
    {
      "cell_type": "markdown",
      "source": [
        "### **`Problem 5:`** Write a Python function to check whether a number is perfect or not.\n",
        "\n",
        "A Perfect number is a number that is half the sum of all of its positive divisors (including itself).\n",
        "\n",
        "Example :\n",
        "\n",
        "```\n",
        "The first perfect number is 6, because 1, 2, and 3 are its proper positive divisors, and 1 + 2 + 3 = 6.\n",
        "Equivalently, the number 6 is equal to half the sum of all its positive divisors: ( 1 + 2 + 3 + 6 ) / 2 = 6.\n",
        "\n",
        "The next perfect number is 28 = 1 + 2 + 4 + 7 + 14. This is followed by the perfect numbers 496 and 8128.\n",
        "```\n"
      ],
      "metadata": {
        "id": "qrK39Gn-HHb4"
      }
    },
    {
      "cell_type": "code",
      "source": [
        "# Write code here"
      ],
      "metadata": {
        "id": "P-OI7H78HICs"
      },
      "execution_count": null,
      "outputs": []
    },
    {
      "cell_type": "markdown",
      "source": [
        "### **`Problem-6:`** Write a Python function to concatenate any no of dictionaries to create a new one.\n",
        "\n",
        "```\n",
        "Sample Dictionary :\n",
        "dic1={1:10, 2:20}\n",
        "dic2={3:30, 4:40}\n",
        "dic3={5:50,6:60}\n",
        "Expected Result : {1: 10, 2: 20, 3: 30, 4: 40, 5: 50, 6: 60}\n",
        "```"
      ],
      "metadata": {
        "id": "oZdpcG77HO-6"
      }
    },
    {
      "cell_type": "code",
      "source": [
        "# Write code here\n",
        "dic1={1:10, 2:20}\n",
        "dic2={3:30, 4:40}\n",
        "dic3={5:50,6:60}\n",
        "\n",
        "dic1.update(dic2)\n",
        "dic1.update(dic3)\n",
        "dic1"
      ],
      "metadata": {
        "id": "LQgfAY4ZHPhj",
        "colab": {
          "base_uri": "https://localhost:8080/"
        },
        "outputId": "6eff1065-2c1e-427c-ad16-ca388f7733c0"
      },
      "execution_count": 59,
      "outputs": [
        {
          "output_type": "execute_result",
          "data": {
            "text/plain": [
              "{1: 10, 2: 20, 3: 30, 4: 40, 5: 50, 6: 60}"
            ]
          },
          "metadata": {},
          "execution_count": 59
        }
      ]
    },
    {
      "cell_type": "code",
      "source": [],
      "metadata": {
        "id": "BzyZQuK315vR"
      },
      "execution_count": 64,
      "outputs": []
    },
    {
      "cell_type": "code",
      "source": [
        "def concatedic(*args):\n",
        "  concatdictionary = {}\n",
        "  for d in args:\n",
        "    concatdictionary.update(d)\n",
        "\n",
        "  return concatdictionary\n",
        "\n",
        "dic1 = {1: 10, 2: 20}\n",
        "dic2 = {3: 30, 4: 40}\n",
        "dic3 = {5: 50, 6: 60}\n",
        "\n",
        "\n",
        "result = concatedic(dic1,dic2,dic3)\n",
        "result"
      ],
      "metadata": {
        "id": "Asn3o_Kn2Qg8",
        "outputId": "5849c581-6dd4-43a8-c155-75a91806b85e",
        "colab": {
          "base_uri": "https://localhost:8080/"
        }
      },
      "execution_count": 65,
      "outputs": [
        {
          "output_type": "execute_result",
          "data": {
            "text/plain": [
              "{1: 10, 2: 20, 3: 30, 4: 40, 5: 50, 6: 60}"
            ]
          },
          "metadata": {},
          "execution_count": 65
        }
      ]
    },
    {
      "cell_type": "markdown",
      "source": [
        "`Problem-7` Write a python function that accepts a string as input and returns the word with most occurence.\n",
        "\n",
        "```\n",
        "Input:\n",
        "hello how are you i am fine thank you\n",
        "```\n",
        "\n",
        "```\n",
        "Output\n",
        "you -> 2\n",
        "```"
      ],
      "metadata": {
        "id": "jQ6SzbCkHRd0"
      }
    },
    {
      "cell_type": "code",
      "source": [
        "def most_c_word(text):\n",
        "  words = text.split()\n",
        "  # print(words)\n",
        "  word_count = {}\n",
        "  for word in words:\n",
        "    # print(word)\n",
        "    if word in word_count:\n",
        "      word_count[word] +=1\n",
        "\n",
        "    else:\n",
        "      word_count[word] = 1\n",
        "\n",
        "\n",
        "  return result_words, result_counts\n",
        "\n",
        "\n",
        "\n",
        "# Input string\n",
        "text = 'hello how are you i am fine thank you you'\n",
        "\n",
        "# Find the word with the most occurrences\n",
        "result_words, result_counts = most_c_word(text)\n",
        "print(f'{result_words} -> {result_counts}')\n"
      ],
      "metadata": {
        "id": "C_S3aIQJ3_JI",
        "outputId": "03ef1b83-8d0e-491b-9252-aa0299869204",
        "colab": {
          "base_uri": "https://localhost:8080/"
        }
      },
      "execution_count": 87,
      "outputs": [
        {
          "output_type": "stream",
          "name": "stdout",
          "text": [
            "you -> 2\n"
          ]
        }
      ]
    },
    {
      "cell_type": "code",
      "source": [
        "def most_common_word(text):\n",
        "    words = text.split()  # Split the input string into words\n",
        "    word_count = {}  # Dictionary to store word counts\n",
        "\n",
        "    # Count occurrences of each word\n",
        "    for word in words:\n",
        "        if word in word_count:\n",
        "            word_count[word] += 1\n",
        "        else:\n",
        "            word_count[word] = 1\n",
        "\n",
        "    # Find the word with the maximum count\n",
        "    max_word = max(word_count, key=word_count.get)\n",
        "    print(max_word)\n",
        "    max_count = word_count[max_word]\n",
        "\n",
        "    return max_word, max_count\n",
        "\n",
        "# Input string\n",
        "text = 'hello how are you i am fine thank you you YOU                  you '\n",
        "\n",
        "# Find the word with the most occurrences\n",
        "result_word, result_count = most_common_word(text)\n",
        "print(f'{result_word} -> {result_count}')\n"
      ],
      "metadata": {
        "id": "Lh04JHLzIW7Z",
        "colab": {
          "base_uri": "https://localhost:8080/"
        },
        "outputId": "b96e5da3-fb6c-4ff2-a7a4-612b10a26a8f"
      },
      "execution_count": 92,
      "outputs": [
        {
          "output_type": "stream",
          "name": "stdout",
          "text": [
            "you\n",
            "you -> 4\n"
          ]
        }
      ]
    },
    {
      "cell_type": "code",
      "source": [
        "word_count = {'apple': 5, 'banana': 3, 'orange': 2}\n",
        "\n",
        "# Get the count of 'apple' using the get method\n",
        "count_of_apple = word_count.get('apple')\n",
        "print(count_of_apple)  # Output: 5\n"
      ],
      "metadata": {
        "id": "AfmNM8j09oMT",
        "outputId": "23959a9a-1f14-4750-daed-bdb8992b1255",
        "colab": {
          "base_uri": "https://localhost:8080/"
        }
      },
      "execution_count": 88,
      "outputs": [
        {
          "output_type": "stream",
          "name": "stdout",
          "text": [
            "5\n"
          ]
        }
      ]
    },
    {
      "cell_type": "markdown",
      "source": [
        "`Problem-8` Write a python function that receives a list of integers and prints out a histogram of bin size 10\n",
        "\n",
        "```\n",
        "Input:\n",
        "[13,42,15,37,22,39,41,50]\n",
        "```\n",
        "\n",
        "```\n",
        "Output:\n",
        "{11-20:2,21-30:1,31-40:2,41-50:3}\n",
        "```"
      ],
      "metadata": {
        "id": "1r8SpVntI-IW"
      }
    },
    {
      "cell_type": "code",
      "source": [
        "def histogram(nums):\n",
        "    hist = {}\n",
        "\n",
        "    # Iterate over the input list\n",
        "    for num in nums:\n",
        "        # Calculate the bin for the current number\n",
        "        bin_start = (num // 10) * 10 + 1\n",
        "        bin_end = bin_start + 9\n",
        "        bin_label = f'{bin_start}-{bin_end}'\n",
        "\n",
        "        # Update the histogram dictionary\n",
        "        hist[bin_label] = hist.get(bin_label, 0) + 1\n",
        "\n",
        "    return hist\n",
        "\n",
        "# Test the function\n",
        "input_nums = [13, 42, 15, 37, 22, 39, 41, 50]\n",
        "output_hist = histogram(input_nums)\n",
        "print(output_hist)\n"
      ],
      "metadata": {
        "id": "7W0J8rUjJovg",
        "colab": {
          "base_uri": "https://localhost:8080/"
        },
        "outputId": "357f1540-e39a-498b-c782-7897381b4970"
      },
      "execution_count": 107,
      "outputs": [
        {
          "output_type": "stream",
          "name": "stdout",
          "text": [
            "{'11-20': 2, '41-50': 2, '31-40': 2, '21-30': 1, '51-60': 1}\n"
          ]
        }
      ]
    },
    {
      "cell_type": "code",
      "source": [
        "def histo(input_list):\n",
        "    histogram = {}\n",
        "\n",
        "    # Iterate over the input list\n",
        "    for num in input_list:\n",
        "        # Calculate the bin for the current number\n",
        "        bin_start = (num // 10) * 10\n",
        "        bin_end = bin_start + 9\n",
        "\n",
        "        # Update the histogram dictionary\n",
        "        bin_label = f'{bin_start + 1}-{bin_end}'\n",
        "        histogram[bin_label] = histogram.get(bin_label, 0) + 1\n",
        "\n",
        "    # Print the histogram\n",
        "    print(histogram)\n",
        "\n",
        "histo([13, 42, 15, 37, 22, 39, 41, 50])\n"
      ],
      "metadata": {
        "id": "plK8nrN6Hwdy",
        "outputId": "156d360e-87d5-4b9b-9fe4-bac8c5acf631",
        "colab": {
          "base_uri": "https://localhost:8080/"
        }
      },
      "execution_count": 105,
      "outputs": [
        {
          "output_type": "stream",
          "name": "stdout",
          "text": [
            "{'11-19': 2, '41-49': 2, '31-39': 2, '21-29': 1, '51-59': 1}\n"
          ]
        }
      ]
    },
    {
      "cell_type": "markdown",
      "source": [
        "`Problem-9` Write a python function that accepts a list of 2D co-ordinates and a query point, and then finds the the co-ordinate which is closest in terms of distance from the query point.\n",
        "\n",
        "```\n",
        "List of Coordinates\n",
        "[(1,1),(2,2),(3,3),(4,4)]\n",
        "Query Point\n",
        "(0,0)\n",
        "```\n",
        "\n",
        "```\n",
        "Output\n",
        "Nearest to (0,0) is (1,1)\n",
        "```"
      ],
      "metadata": {
        "id": "1P2-rbgXKE53"
      }
    },
    {
      "cell_type": "code",
      "source": [
        "# Write code here"
      ],
      "metadata": {
        "id": "zjn7vSTIJ81G"
      },
      "execution_count": null,
      "outputs": []
    },
    {
      "cell_type": "markdown",
      "source": [
        "`Problem-10`:Write a python program that receives a list of strings and performs bag of word operation on those strings\n",
        "\n",
        "https://en.wikipedia.org/wiki/Bag-of-words_model"
      ],
      "metadata": {
        "id": "i-B6igmyK9hB"
      }
    },
    {
      "cell_type": "code",
      "source": [
        "# Write code here\n"
      ],
      "metadata": {
        "id": "N2l1_AWULT-z"
      },
      "execution_count": null,
      "outputs": []
    },
    {
      "cell_type": "markdown",
      "source": [
        "###`Problem 11:` Write a Python program to add three given lists using Python map and lambda."
      ],
      "metadata": {
        "id": "dHTRKb-DqMLw"
      }
    },
    {
      "cell_type": "code",
      "source": [
        "# Write code here\n",
        "# Given lists\n",
        "list1 = [1, 2, 3]\n",
        "list2 = [4, 5, 6]\n",
        "list3 = [7, 8, 9]\n",
        "\n",
        "\n",
        "result = list(map(lambda x,y,z: x+y+z, list1,list2,list3))\n",
        "# Print the result\n",
        "print(result)\n"
      ],
      "metadata": {
        "id": "NfJdzyNZqNW-",
        "colab": {
          "base_uri": "https://localhost:8080/"
        },
        "outputId": "00cb4607-bd8e-4793-bf89-23e1259fdcb0"
      },
      "execution_count": 112,
      "outputs": [
        {
          "output_type": "stream",
          "name": "stdout",
          "text": [
            "[12, 15, 18]\n"
          ]
        }
      ]
    },
    {
      "cell_type": "markdown",
      "source": [
        "###`Problem-12:`Write a Python program to create a list containing the power of said number in bases raised to the corresponding number in the index using Python map.\n",
        "`Input:`\n",
        "```\n",
        "list1 = [1,2,3,4,5,6]\n",
        "```\n",
        "`Output:`\n",
        "```\n",
        "[1,2,9,64,625,-]\n",
        "```\n"
      ],
      "metadata": {
        "id": "MgHP7mbUqO8l"
      }
    },
    {
      "cell_type": "code",
      "source": [
        "# Write code here\n",
        "list1 = [1, 2, 3, 4, 5, 6]\n",
        "\n",
        "print(range(len(list1)))\n",
        "\n",
        "powercalc = lambda x, idx: x**idx\n",
        "\n",
        "res = list(map(powercalc, list1, range(len(list1))))\n",
        "res[-1] = '-'\n",
        "\n",
        "print(res)"
      ],
      "metadata": {
        "id": "Lptkr5DlK0ba",
        "outputId": "a7d08dba-f4bf-4717-b8f1-bbe9ca3d6092",
        "colab": {
          "base_uri": "https://localhost:8080/"
        }
      },
      "execution_count": 125,
      "outputs": [
        {
          "output_type": "stream",
          "name": "stdout",
          "text": [
            "range(0, 6)\n",
            "[1, 2, 9, 64, 625, '-']\n"
          ]
        }
      ]
    },
    {
      "cell_type": "code",
      "source": [
        "# Write code here\n",
        "list1 = [1, 2, 3, 4, 5, 6]\n",
        "\n",
        "# print(range(len(list1)))\n",
        "\n",
        "res = list(map(lambda x, idx: x**idx, list1, range(len(list1))))\n",
        "res[-1] = '-'\n",
        "\n",
        "print(res)"
      ],
      "metadata": {
        "id": "U8stNrThMbZB",
        "outputId": "f68b5627-5c87-43a5-fddf-ded984260f59",
        "colab": {
          "base_uri": "https://localhost:8080/"
        }
      },
      "execution_count": 127,
      "outputs": [
        {
          "output_type": "stream",
          "name": "stdout",
          "text": [
            "[1, 2, 9, 64, 625, '-']\n"
          ]
        }
      ]
    },
    {
      "cell_type": "code",
      "source": [
        "# Write code here\n",
        "list1 = [1, 2, 3, 4, 5, 6]\n",
        "\n",
        "# Define a lambda function to compute the power of each number raised to its index\n",
        "power_calculation = lambda x, idx: x ** idx\n",
        "\n",
        "# Use map to apply the lambda function to each element of list1 along with its index\n",
        "result = list(map(power_calculation, list1, range(len(list1))))\n",
        "\n",
        "# Replace the last element with a dash (-)\n",
        "result[-1] = '-'\n",
        "\n",
        "print(result)\n"
      ],
      "metadata": {
        "id": "gG3Dc6N3qbvN",
        "colab": {
          "base_uri": "https://localhost:8080/"
        },
        "outputId": "36977848-ad0b-46e0-f9cb-9066e4db93f6"
      },
      "execution_count": 113,
      "outputs": [
        {
          "output_type": "stream",
          "name": "stdout",
          "text": [
            "[1, 2, 9, 64, 625, '-']\n"
          ]
        }
      ]
    },
    {
      "cell_type": "markdown",
      "source": [
        "###`Problem-13` Using filter() and list() functions and .lower() method filter all the vowels in a given string.\n",
        "\n"
      ],
      "metadata": {
        "id": "G26SYq6vqdLN"
      }
    },
    {
      "cell_type": "code",
      "source": [
        "# Write code here\n",
        "\n",
        "\n",
        "\n",
        "def filter_vowels(input_text):\n",
        "  vowels = ['a', 'e', 'i', 'o', 'u']\n",
        "  filtered_vowels = list(filter(lambda x: x.lower() in vowels, input_text))\n",
        "  return filtered_vowels\n",
        "\n",
        "\n",
        "# Example usage\n",
        "input_string = \"Hello WorldWorldWorldWorldWorldWorldWorld\"\n",
        "filtered_vowels = filter_vowels(input_string)\n",
        "print(filtered_vowels)\n",
        "\n",
        "\n",
        "\n",
        "\n"
      ],
      "metadata": {
        "id": "zurga3DIqmEx",
        "colab": {
          "base_uri": "https://localhost:8080/"
        },
        "outputId": "b2f9a638-94c9-4225-cf39-926a74d13bd9"
      },
      "execution_count": 131,
      "outputs": [
        {
          "output_type": "stream",
          "name": "stdout",
          "text": [
            "['e', 'o', 'o', 'o', 'o', 'o', 'o', 'o', 'o']\n"
          ]
        }
      ]
    },
    {
      "cell_type": "code",
      "source": [
        "def filter_vowels(string):\n",
        "    vowels = ['a', 'e', 'i', 'o', 'u']\n",
        "    filtered_vowels = list(filter(lambda x: x.lower() in vowels, string))\n",
        "    return filtered_vowels\n",
        "\n",
        "# Example usage\n",
        "input_string = \"Hello World\"\n",
        "filtered_vowels = filter_vowels(input_string)\n",
        "print(filtered_vowels)\n"
      ],
      "metadata": {
        "id": "R35XkzdoMrH1",
        "outputId": "7be83a5d-e0c7-4163-bc7f-c69771aa9a26",
        "colab": {
          "base_uri": "https://localhost:8080/"
        }
      },
      "execution_count": 128,
      "outputs": [
        {
          "output_type": "stream",
          "name": "stdout",
          "text": [
            "['e', 'o', 'o']\n"
          ]
        }
      ]
    },
    {
      "cell_type": "markdown",
      "source": [
        "`Problem-14`: Use reduce to convert a 2D list to 1D"
      ],
      "metadata": {
        "id": "uQrsunZSqoYu"
      }
    },
    {
      "cell_type": "code",
      "source": [
        "# Write code here"
      ],
      "metadata": {
        "id": "E1YUwnfgqnka"
      },
      "execution_count": null,
      "outputs": []
    },
    {
      "cell_type": "code",
      "source": [
        "from functools import reduce\n",
        "two_d_list = [[1, 2, 3], [4, 5], [6, 7, 8]]\n",
        "\n",
        "one_d = reduce(lambda x,y: x+y, two_d_list)\n",
        "print(one_d)\n"
      ],
      "metadata": {
        "id": "s4Do4YbYQN01",
        "outputId": "4c2b34ef-2acb-4abc-d3f5-5d37cfb5f637",
        "colab": {
          "base_uri": "https://localhost:8080/"
        }
      },
      "execution_count": 134,
      "outputs": [
        {
          "output_type": "stream",
          "name": "stdout",
          "text": [
            "[1, 2, 3, 4, 5, 6, 7, 8]\n"
          ]
        }
      ]
    },
    {
      "cell_type": "code",
      "source": [
        "two_d_list = [1, 2, 3, 4, 5, 6, 7, 8]\n",
        "\n",
        "one_d = reduce(lambda x,y: x+y, two_d_list)\n",
        "print(one_d)\n"
      ],
      "metadata": {
        "id": "fHiTtvbEQNSM",
        "outputId": "841d9931-1e7d-4676-b111-e3cb2866bb13",
        "colab": {
          "base_uri": "https://localhost:8080/"
        }
      },
      "execution_count": 135,
      "outputs": [
        {
          "output_type": "stream",
          "name": "stdout",
          "text": [
            "36\n"
          ]
        }
      ]
    },
    {
      "cell_type": "code",
      "source": [
        "[1,2,3] + [4,5]\n",
        "[1, 2, 3, 4, 5] + [6, 7, 8]\n",
        "[1, 2, 3, 4, 5, 6, 7, 8]"
      ],
      "metadata": {
        "id": "el6NCwaSU1A_",
        "outputId": "30832fc0-3d4b-49c3-c453-e29ebb4aa12c",
        "colab": {
          "base_uri": "https://localhost:8080/"
        }
      },
      "execution_count": 142,
      "outputs": [
        {
          "output_type": "execute_result",
          "data": {
            "text/plain": [
              "[1, 2, 3, 4, 5, 6, 7, 8]"
            ]
          },
          "metadata": {},
          "execution_count": 142
        }
      ]
    },
    {
      "cell_type": "code",
      "source": [
        "# 1 2\n",
        "# 3 3\n",
        "# 6 4\n",
        "# 10 5\n",
        "# 15 6\n",
        "# 21 7\n",
        "# 28 8\n",
        "# 36"
      ],
      "metadata": {
        "id": "GAqxCHM8UrtL"
      },
      "execution_count": null,
      "outputs": []
    },
    {
      "cell_type": "markdown",
      "source": [
        "`Problem 15`- A dictionary contains following information about 5 employees:\n",
        "- First name\n",
        "- Last name\n",
        "- Age\n",
        "- Grade(Skilled,Semi-skilled,Highly skilled)<br>\n",
        "Write a program using map/filter/reduce to a list of employees(first name + last name) who are highly skilled"
      ],
      "metadata": {
        "id": "8-DLQEawt-_t"
      }
    },
    {
      "cell_type": "code",
      "source": [
        "# Write code here\n",
        "employees = [\n",
        "    {\n",
        "        'fname':'Nitish',\n",
        "        'lname':'Singh',\n",
        "        'age' : 33,\n",
        "        'grade':'skilled'\n",
        "    },\n",
        "    {\n",
        "        'fname':'Ankit',\n",
        "        'lname':'Verma',\n",
        "        'age' : 34,\n",
        "        'grade':'semi-skilled'\n",
        "    },\n",
        "    {\n",
        "        'fname':'Neha',\n",
        "        'lname':'Singh',\n",
        "        'age' : 35,\n",
        "        'grade':'highly-skilled'\n",
        "    },\n",
        "    {\n",
        "        'fname':'Anurag',\n",
        "        'lname':'Kumar',\n",
        "        'age' : 30,\n",
        "        'grade':'skilled'\n",
        "    },\n",
        "    {\n",
        "        'fname':'Abhinav',\n",
        "        'lname':'Sharma',\n",
        "        'age' : 37,\n",
        "        'grade':'highly-skilled'\n",
        "    }\n",
        "\n",
        "]"
      ],
      "metadata": {
        "id": "OLvptttLs6OU"
      },
      "execution_count": 144,
      "outputs": []
    },
    {
      "cell_type": "code",
      "source": [
        "list(map(lambda x:x['fname'] + ' ' + x['lname'],list(filter(lambda x:True if x['grade'] == 'highly-skilled' else False,employees))))"
      ],
      "metadata": {
        "id": "vLX0FAQkui3y",
        "colab": {
          "base_uri": "https://localhost:8080/"
        },
        "outputId": "e7d50543-c30e-4a20-c793-756f5a435df7"
      },
      "execution_count": null,
      "outputs": [
        {
          "output_type": "execute_result",
          "data": {
            "text/plain": [
              "['Neha Singh', 'Abhinav Sharma']"
            ]
          },
          "metadata": {},
          "execution_count": 17
        }
      ]
    },
    {
      "cell_type": "code",
      "source": [
        "list(map(lambda x: x['fname'] + ' ' + x['lname'], list(filter(lambda x: True if x['grade'] == 'highly-skilled' else False, employees))))"
      ],
      "metadata": {
        "id": "ldMjGfkgAMr9",
        "colab": {
          "base_uri": "https://localhost:8080/"
        },
        "outputId": "73fdcb5c-60ce-4909-99e2-1370eb30373c"
      },
      "execution_count": 145,
      "outputs": [
        {
          "output_type": "execute_result",
          "data": {
            "text/plain": [
              "['Neha Singh', 'Abhinav Sharma']"
            ]
          },
          "metadata": {},
          "execution_count": 145
        }
      ]
    }
  ]
}